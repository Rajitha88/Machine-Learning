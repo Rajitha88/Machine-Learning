{
 "cells": [
  {
   "cell_type": "markdown",
   "metadata": {},
   "source": [
    "1. Write a Python Program to implement your own myreduce() function which works exactly like\n",
    "   Python's built-in function reduce()"
   ]
  },
  {
   "cell_type": "code",
   "execution_count": 3,
   "metadata": {},
   "outputs": [
    {
     "data": {
      "text/plain": [
       "15"
      ]
     },
     "execution_count": 3,
     "metadata": {},
     "output_type": "execute_result"
    }
   ],
   "source": [
    "def my_reduce(f,lst):\n",
    "    result=lst[0]\n",
    "    for i in range(1, len(lst)):\n",
    "        result=f(result,lst[i])\n",
    "    return result\n",
    "my_reduce(lambda x,y:x+y,[1,2,3,4,5]) "
   ]
  },
  {
   "cell_type": "code",
   "execution_count": 6,
   "metadata": {},
   "outputs": [
    {
     "data": {
      "text/plain": [
       "15"
      ]
     },
     "execution_count": 6,
     "metadata": {},
     "output_type": "execute_result"
    }
   ],
   "source": [
    "def my_reduce(func,lst):\n",
    "    result=lst[0]\n",
    "    for i in range(1, len(lst)):\n",
    "        result=func(result,lst[i])\n",
    "    return result\n",
    "def addition(n,m):\n",
    "    return n+m\n",
    "my_reduce(addition, [1,2,3,4,5])\n",
    "        "
   ]
  },
  {
   "cell_type": "markdown",
   "metadata": {},
   "source": [
    "2.Write a Python program to implement your own myfilter() function which works exactly like\n",
    "  Python's built-in function filter()"
   ]
  },
  {
   "cell_type": "code",
   "execution_count": 5,
   "metadata": {},
   "outputs": [
    {
     "data": {
      "text/plain": [
       "[5, 15, 33]"
      ]
     },
     "execution_count": 5,
     "metadata": {},
     "output_type": "execute_result"
    }
   ],
   "source": [
    "def my_filter(function,lst):\n",
    "    lst1=[]\n",
    "    for i in lst:\n",
    "        if(function(i)):\n",
    "            lst1.append(i)\n",
    "    return lst1\n",
    "def is_odd(num):\n",
    "    if num%2 != 0:\n",
    "        return True\n",
    "    else:\n",
    "        return False\n",
    "lst=[5,10,15,20,22,33,34]\n",
    "my_filter(is_odd,lst)"
   ]
  },
  {
   "cell_type": "markdown",
   "metadata": {},
   "source": [
    "3.Implement List comprehensions to produce the following lists.\n",
    "  Write List comprehensions to produce the following Lists"
   ]
  },
  {
   "cell_type": "code",
   "execution_count": 10,
   "metadata": {
    "scrolled": true
   },
   "outputs": [
    {
     "name": "stdout",
     "output_type": "stream",
     "text": [
      "['x', 'xx', 'xxx', 'xxxx', 'y', 'yy', 'yyy', 'yyyy', 'z', 'zz', 'zzz', 'zzzz']\n",
      "['x', 'y', 'z', 'xx', 'yy', 'zz', 'xxx', 'yyy', 'zzz', 'xxxx', 'yyyy', 'zzzz']\n",
      "[[2], [3], [4], [3], [4], [5], [4], [5], [6]]\n",
      "[[2, 3, 4, 5], [3, 4, 5, 6], [4, 5, 6, 7], [5, 6, 7, 8]]\n",
      "[(1, 1), (2, 1), (3, 1), (1, 2), (2, 2), (3, 2), (1, 3), (2, 3), (3, 3)]\n"
     ]
    }
   ],
   "source": [
    "A='xyz'\n",
    "lst1=[A[i]*num for i in range(0,len(A)) for num in range(1,5)]\n",
    "print(lst1)\n",
    "lst2 = [num*A[i] for num in range(1,5) for i in range(0,len(A)) ]\n",
    "print(lst2)\n",
    "B=[2,3,4]\n",
    "lst3=[[i+num] for i in B for num in range(0,3)]\n",
    "print(lst3)\n",
    "C=[2,3,4,5]\n",
    "lst4=[[i+num for i in C] for num in range(0,4)]\n",
    "print(lst4)\n",
    "D=[1,2,3]\n",
    "lst5=[(j,i) for i in D for j in D ]\n",
    "print(lst5)"
   ]
  },
  {
   "cell_type": "code",
   "execution_count": null,
   "metadata": {},
   "outputs": [],
   "source": []
  }
 ],
 "metadata": {
  "kernelspec": {
   "display_name": "Python 3",
   "language": "python",
   "name": "python3"
  },
  "language_info": {
   "codemirror_mode": {
    "name": "ipython",
    "version": 3
   },
   "file_extension": ".py",
   "mimetype": "text/x-python",
   "name": "python",
   "nbconvert_exporter": "python",
   "pygments_lexer": "ipython3",
   "version": "3.7.4"
  }
 },
 "nbformat": 4,
 "nbformat_minor": 2
}
