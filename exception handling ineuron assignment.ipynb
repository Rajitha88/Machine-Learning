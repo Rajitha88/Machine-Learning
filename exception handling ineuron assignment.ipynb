{
 "cells": [
  {
   "cell_type": "markdown",
   "metadata": {},
   "source": [
    "1. Write a function to compute 5/0 and use try/except to catch the exceptions."
   ]
  },
  {
   "cell_type": "code",
   "execution_count": 1,
   "metadata": {},
   "outputs": [
    {
     "name": "stdout",
     "output_type": "stream",
     "text": [
      "Error: division by zero\n"
     ]
    }
   ],
   "source": [
    "def division(num):\n",
    "    try:\n",
    "        a = num / 0\n",
    "        print(a)\n",
    "    except Exception as e:\n",
    "        print('Error:',e)\n",
    "division(5)"
   ]
  },
  {
   "cell_type": "markdown",
   "metadata": {},
   "source": [
    "2. Implement a Python program to generate all sentences where subject is in\n",
    "   [\"Americans\", \"Indians\"] and verb is in [\"Play\", \"watch\"] and the object is in\n",
    "   [\"Baseball\",\"cricket\"]."
   ]
  },
  {
   "cell_type": "code",
   "execution_count": 1,
   "metadata": {},
   "outputs": [
    {
     "name": "stdout",
     "output_type": "stream",
     "text": [
      "Americans play Base ball\n",
      "Americans play Cricket\n",
      "Americans watch Base ball\n",
      "Americans watch Cricket\n",
      "Indians play Base ball\n",
      "Indians play Cricket\n",
      "Indians watch Base ball\n",
      "Indians watch Cricket\n"
     ]
    }
   ],
   "source": [
    "class sports:\n",
    "    def __init__(self, subjects, verb, objects):\n",
    "        self.subjects = subjects\n",
    "        self.verb = verb\n",
    "        self.objects = objects\n",
    "    def game(self):\n",
    "        G = [i +' '+ j +' '+ k for i in self.subjects for j in self.verb for k in self.objects]\n",
    "        return G\n",
    "A = sports(['Americans', 'Indians'], ['play', 'watch'], ['Base ball', 'Cricket'])\n",
    "print('\\n'.join(A.game()))\n"
   ]
  },
  {
   "cell_type": "code",
   "execution_count": 2,
   "metadata": {},
   "outputs": [
    {
     "name": "stdout",
     "output_type": "stream",
     "text": [
      "Americans play Base ball\n",
      "Americans play Cricket\n",
      "Americans watch Base ball\n",
      "Americans watch Cricket\n",
      "Indians play Base ball\n",
      "Indians play Cricket\n",
      "Indians watch Base ball\n",
      "Indians watch Cricket\n"
     ]
    }
   ],
   "source": [
    "subjects = ['Americans', 'Indians']\n",
    "verb = ['play', 'watch']\n",
    "objects = ['Base ball', 'Cricket']\n",
    "lst = [i +' '+ j +' '+ k for i in subjects for j in verb for k in objects]\n",
    "print('\\n'.join(lst))\n"
   ]
  },
  {
   "cell_type": "code",
   "execution_count": null,
   "metadata": {},
   "outputs": [],
   "source": [
    "  "
   ]
  }
 ],
 "metadata": {
  "kernelspec": {
   "display_name": "Python 3",
   "language": "python",
   "name": "python3"
  },
  "language_info": {
   "codemirror_mode": {
    "name": "ipython",
    "version": 3
   },
   "file_extension": ".py",
   "mimetype": "text/x-python",
   "name": "python",
   "nbconvert_exporter": "python",
   "pygments_lexer": "ipython3",
   "version": "3.7.4"
  }
 },
 "nbformat": 4,
 "nbformat_minor": 2
}
