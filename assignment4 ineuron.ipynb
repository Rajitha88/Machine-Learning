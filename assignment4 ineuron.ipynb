{
 "cells": [
  {
   "cell_type": "markdown",
   "metadata": {},
   "source": [
    "1 Write a Python Program(with class concepts) to find the area of the triangle using the below\n",
    "  formula.\n",
    "  area = (s*(s-a)*(s-b)*(s-c)) ** 0.5\n",
    "  Function to take the length of the sides of triangle from user should be defined in the parent\n",
    "  class and function to calculate the area should be defined in subclass."
   ]
  },
  {
   "cell_type": "code",
   "execution_count": 53,
   "metadata": {},
   "outputs": [
    {
     "name": "stdout",
     "output_type": "stream",
     "text": [
      "a=5\n",
      "b=6\n",
      "c=7\n",
      "area : 14.696938456699069\n"
     ]
    }
   ],
   "source": [
    "class length_input:\n",
    "    def __init__(self,a,b,c):\n",
    "        self.a = float(a)\n",
    "        self.b = float(b)\n",
    "        self.c = float(c)\n",
    "a= int(input(\"a=\"))\n",
    "b= int(input(\"b=\"))\n",
    "c= int(input(\"c=\"))\n",
    "\n",
    "class area(length_input):\n",
    "    def __init__(self,a,b,c):\n",
    "        super().__init__(a,b,c)\n",
    "\n",
    "    def triangle(self):\n",
    "        s = (a + b + c) / 2\n",
    "        return (s*(s-a)*(s-b)*(s-c)) ** 0.5        \n",
    "\n",
    "t = area(a,b,c)\n",
    "print(\"area : {}\".format(t.triangle()))"
   ]
  },
  {
   "cell_type": "code",
   "execution_count": 2,
   "metadata": {},
   "outputs": [
    {
     "name": "stdout",
     "output_type": "stream",
     "text": [
      "area : 14.696938456699069\n"
     ]
    }
   ],
   "source": [
    "\n",
    "class length_input:\n",
    "    def __init__(self,a,b,c):\n",
    "        self.a = a\n",
    "        self.b = b\n",
    "        self.c = c\n",
    "        self.s = (a+b+c)/2\n",
    "class area(length_input):\n",
    "    def __init__(self, *args):\n",
    "        super().__init__(*args)\n",
    "    def triangle(self):\n",
    "        return (self.s*(self.s - self.a)*(self.s - self.b)*(self.s - self.c))**(1/2)\n",
    "        \n",
    "a1=area(5,6,7)\n",
    "print(\"area : {}\".format(a1.triangle()))\n",
    "\n"
   ]
  },
  {
   "cell_type": "markdown",
   "metadata": {},
   "source": [
    "2. Write a function filter_long_words() that takes a list of words and an integer n and returns\n",
    "   the list of words that are longer than n."
   ]
  },
  {
   "cell_type": "code",
   "execution_count": 20,
   "metadata": {},
   "outputs": [
    {
     "data": {
      "text/plain": [
       "['name', 'Shrihan', 'Annadi']"
      ]
     },
     "execution_count": 20,
     "metadata": {},
     "output_type": "execute_result"
    }
   ],
   "source": [
    "def filter_long_words(n, lst):\n",
    "    lst1=[]\n",
    "    for i in lst:\n",
    "        if len(i) > n:\n",
    "            lst1.append(i)\n",
    "    return lst1\n",
    "filter_long_words(3,['My', 'name', 'is', 'Shrihan','Annadi'])"
   ]
  },
  {
   "cell_type": "markdown",
   "metadata": {},
   "source": [
    "3. Write a Python program using function concept that maps list of words into a list of integers representing the lengths of      the corresponding words . Hint: If a list [ ab,cde,erty] is passed on to the python function output should come as [2,3,4]      Here 2,3 and 4 are the lengths of the words in the list."
   ]
  },
  {
   "cell_type": "code",
   "execution_count": 21,
   "metadata": {},
   "outputs": [
    {
     "data": {
      "text/plain": [
       "[5, 3, 4]"
      ]
     },
     "execution_count": 21,
     "metadata": {},
     "output_type": "execute_result"
    }
   ],
   "source": [
    "def let_turn_int(letters):\n",
    "    return len(letters)\n",
    "lst=['abcde','bbb','cccc']\n",
    "list(map(let_turn_int,lst))"
   ]
  },
  {
   "cell_type": "code",
   "execution_count": 22,
   "metadata": {},
   "outputs": [
    {
     "data": {
      "text/plain": [
       "[5, 3, 4]"
      ]
     },
     "execution_count": 22,
     "metadata": {},
     "output_type": "execute_result"
    }
   ],
   "source": [
    "list(map(lambda x:len(x), lst))"
   ]
  },
  {
   "cell_type": "markdown",
   "metadata": {},
   "source": [
    "4. Write a Python function which takes a character (i.e. a string of length 1) and returns True if it is a vowel, False otherwise.\n"
   ]
  },
  {
   "cell_type": "code",
   "execution_count": 23,
   "metadata": {},
   "outputs": [
    {
     "data": {
      "text/plain": [
       "'String with one Character and vowel : True'"
      ]
     },
     "execution_count": 23,
     "metadata": {},
     "output_type": "execute_result"
    }
   ],
   "source": [
    "def vowel_true(char):\n",
    "    if (len(char) == 1 and char in ['a','e','i','o','u']):\n",
    "        return 'String with one Character and vowel : True'\n",
    "    else:\n",
    "        return 'String with multiple characters or not a vowel: False'\n",
    "vowel_true('u')"
   ]
  },
  {
   "cell_type": "code",
   "execution_count": null,
   "metadata": {
    "scrolled": true
   },
   "outputs": [],
   "source": []
  },
  {
   "cell_type": "code",
   "execution_count": null,
   "metadata": {},
   "outputs": [],
   "source": []
  }
 ],
 "metadata": {
  "kernelspec": {
   "display_name": "Python 3",
   "language": "python",
   "name": "python3"
  },
  "language_info": {
   "codemirror_mode": {
    "name": "ipython",
    "version": 3
   },
   "file_extension": ".py",
   "mimetype": "text/x-python",
   "name": "python",
   "nbconvert_exporter": "python",
   "pygments_lexer": "ipython3",
   "version": "3.7.4"
  }
 },
 "nbformat": 4,
 "nbformat_minor": 2
}
